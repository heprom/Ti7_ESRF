{
 "cells": [
  {
   "cell_type": "markdown",
   "metadata": {},
   "source": [
    "exercice to learn crystallography"
   ]
  },
  {
   "cell_type": "code",
   "execution_count": 24,
   "metadata": {},
   "outputs": [],
   "source": [
    "import numpy as np"
   ]
  },
  {
   "cell_type": "code",
   "execution_count": 25,
   "metadata": {},
   "outputs": [],
   "source": [
    "#MATERIAL PARAMETERS\n",
    "#Lattice parameter\n",
    "a = 0.3306  # in nm\n",
    "\n",
    "#Miller indices\n",
    "h = 0\n",
    "k = 1\n",
    "l = 1\n",
    "\n",
    "#Considered grain Euler angles in radians\n",
    "phi1 = np.radians(103.517)\n",
    "PHI = np.radians(42.911)\n",
    "phi2 = np.radians(266.452)"
   ]
  },
  {
   "cell_type": "code",
   "execution_count": 26,
   "metadata": {},
   "outputs": [],
   "source": [
    "#Experimental parameters\n",
    "Lambda_kev = 30 #in keV\n",
    "Lambda_nm = 0.041 #in nm"
   ]
  },
  {
   "cell_type": "code",
   "execution_count": 27,
   "metadata": {},
   "outputs": [],
   "source": [
    "#Expected theta obtainable with pymicro or manually\n",
    "theta = 5.03 # in degrees"
   ]
  },
  {
   "cell_type": "code",
   "execution_count": 28,
   "metadata": {},
   "outputs": [],
   "source": [
    "#Coefficients for matrix g\n",
    "c1 = np.cos(phi1)\n",
    "c2 = np.cos(phi2)\n",
    "s1 = np.sin(phi1)\n",
    "s2 = np.sin(phi2)\n",
    "c = np.cos(PHI)\n",
    "s = np.sin(PHI)\n"
   ]
  },
  {
   "cell_type": "code",
   "execution_count": 29,
   "metadata": {},
   "outputs": [
    {
     "name": "stdout",
     "output_type": "stream",
     "text": [
      "[[ 0.72522445  0.11069087 -0.67955649]\n",
      " [-0.18921622  0.98103102 -0.04213492]\n",
      " [ 0.66200205  0.15914039  0.7324122 ]]\n"
     ]
    }
   ],
   "source": [
    "g = np.array([[c1*c2-s1*s2*c , s1*c2+c1*s2*c , s2*s],[-c1*s2-s1*c2*c , -s1*s2+c1*c2*c , c2*s],[s1*s , -c1*s , c]])\n",
    "print (g)"
   ]
  },
  {
   "cell_type": "code",
   "execution_count": 30,
   "metadata": {},
   "outputs": [],
   "source": [
    "#Coefficients of Bragg diffraction condition\n",
    "A = h*(c1*c2 - s1*s2*c) + k*(-c1*s2 - s1*c2*c) + l*(s1*s)\n",
    "B = -h*(s1*c2 - c1*s2*c) - k*(-s1*s2 - c1*s2*c) - l*(c1*s)\n",
    "C = -2*a*np.square(np.sin(np.radians(theta)))/Lambda_nm\n"
   ]
  },
  {
   "cell_type": "code",
   "execution_count": 32,
   "metadata": {},
   "outputs": [],
   "source": [
    "#Second order equation coefficients after variable change\n",
    "coeffs = [A+C , -2*B , C-A]\n"
   ]
  },
  {
   "cell_type": "code",
   "execution_count": 39,
   "metadata": {},
   "outputs": [
    {
     "name": "stdout",
     "output_type": "stream",
     "text": [
      "[-4.09033431  0.41825937]\n"
     ]
    }
   ],
   "source": [
    "#Solve second order equation\n",
    "t_array = np.roots(coeffs) \n",
    "print (t_array) "
   ]
  },
  {
   "cell_type": "code",
   "execution_count": 41,
   "metadata": {},
   "outputs": [
    {
     "name": "stdout",
     "output_type": "stream",
     "text": [
      "-152.52374917616405 45.395153274651385\n"
     ]
    }
   ],
   "source": [
    "w1 = 2*np.degrees(np.arctan(t_array[0]))\n",
    "w2 = 2*np.degrees(np.arctan(t_array[1]))\n",
    "print (w1,w2)"
   ]
  },
  {
   "cell_type": "code",
   "execution_count": null,
   "metadata": {},
   "outputs": [],
   "source": []
  }
 ],
 "metadata": {
  "kernelspec": {
   "display_name": "Python 3",
   "language": "python",
   "name": "python3"
  },
  "language_info": {
   "codemirror_mode": {
    "name": "ipython",
    "version": 3
   },
   "file_extension": ".py",
   "mimetype": "text/x-python",
   "name": "python",
   "nbconvert_exporter": "python",
   "pygments_lexer": "ipython3",
   "version": "3.7.4"
  }
 },
 "nbformat": 4,
 "nbformat_minor": 2
}
