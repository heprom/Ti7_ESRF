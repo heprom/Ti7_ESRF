{
 "cells": [
  {
   "cell_type": "code",
   "execution_count": 1,
   "metadata": {},
   "outputs": [],
   "source": [
    "import numpy as np\n",
    "import vtk\n",
    "import pymicro\n",
    "import pymicro.crystal.microstructure\n",
    "import os\n",
    "import h5py\n",
    "from esrf_mat_file import esrf_mat_file\n"
   ]
  },
  {
   "cell_type": "code",
   "execution_count": 17,
   "metadata": {},
   "outputs": [
    {
     "name": "stdout",
     "output_type": "stream",
     "text": [
      "file = /Volumes/PollockShare/Group Resources/Collaborative Projects/Ti7_ESRF/id11/t5_/t5_dct_cen_1_/5_reconstruction/phase_01_vol.mat\n",
      "reading volume...\n",
      "[u'rotation_angles', u'rotation_axes', u'vol']\n",
      "shape =(424, 634, 634)\n",
      "Getting rodrigues vector dictionary for (141,) grains\n",
      "Working on grain 1\n",
      "[ 0.02989752 -0.8187586   0.22855322]\n",
      "Adding mesh for grain 1.\n",
      "Working on grain 5\n",
      "[ 0.78819892 -0.56153577  0.02370466]\n",
      "Adding mesh for grain 5.\n",
      "Working on grain 9\n",
      "[-0.41470926  0.1857377  -0.0852515 ]\n",
      "Adding mesh for grain 9.\n",
      "Working on grain 24\n",
      "[-0.40222288  0.55295877 -0.25101311]\n",
      "Adding mesh for grain 24.\n"
     ]
    }
   ],
   "source": [
    "nm = '/Volumes/PollockShare/Group Resources/Collaborative Projects/' \\\n",
    "     'Ti7_ESRF/id11/t5_/t5_dct_cen_1_/5_reconstruction/phase_01_vol.mat'\n",
    "\n",
    "grainID = 1\n",
    "grainIDs = [1,5,9,24]\n",
    "\n",
    "matFile = esrf_mat_file(nm)\n",
    "## Get correct reference frame\n",
    "matFile.vol = matFile.vol.swapaxes(0,2)\n",
    "matFile.vol = np.copy(matFile.vol,'C_CONTIGUOUS')\n",
    "## Finished getting correct reference frame.\n",
    "matFile.get_grain_orientations_dictionary() # read orientations from .mat files\n",
    "matFile.get_microstructure_from_grains(grainIDs,name = '1_5_9_24')"
   ]
  },
  {
   "cell_type": "code",
   "execution_count": 18,
   "metadata": {},
   "outputs": [],
   "source": [
    "import pymicro.crystal.lattice\n",
    "\n",
    "lambda_keV = 38.0\n",
    "lambda_nm = 1.2398/ lambda_keV\n",
    "Ti7Al = pymicro.crystal.lattice.Lattice.hexagonal(0.2931, 0.4694)  # nm"
   ]
  },
  {
   "cell_type": "code",
   "execution_count": 19,
   "metadata": {},
   "outputs": [
    {
     "name": "stdout",
     "output_type": "stream",
     "text": [
      "1\n",
      "(0.9647058823529412, 0.9725490196078431, 0.4549019607843137)\n"
     ]
    }
   ],
   "source": [
    "from pymicro.view.vtk_utils import *\n",
    "import vtk\n",
    "\n",
    "## Grain 1\n",
    "grain1 = matFile.micro.get_grain(1)\n",
    "hklplanes = [pymicro.crystal.lattice.HklPlane(0,0,1)]\n",
    "grain1_with_planes = grain_3d(grain1, hklplanes, show_normal = False, plane_opacity = 1.0, show_orientation = True)\n",
    "tr = vtk.vtkTransform()\n",
    "tr.Translate(grain1.position)\n",
    "grain1_with_planes.SetUserTransform(tr)"
   ]
  },
  {
   "cell_type": "code",
   "execution_count": 20,
   "metadata": {},
   "outputs": [
    {
     "name": "stdout",
     "output_type": "stream",
     "text": [
      "5\n",
      "(0.6784313725490196, 0.2549019607843137, 0.34901960784313724)\n"
     ]
    }
   ],
   "source": [
    "## grain 5\n",
    "grain5 = matFile.micro.get_grain(5)\n",
    "hklplanes = [pymicro.crystal.lattice.HklPlane(0,0,1)]\n",
    "grain5_with_planes = grain_3d(grain5, hklplanes, show_normal = False, plane_opacity = 1.0, show_orientation = True)\n",
    "tr = vtk.vtkTransform()\n",
    "tr.Translate(grain5.position)\n",
    "grain5_with_planes.SetUserTransform(tr)"
   ]
  },
  {
   "cell_type": "code",
   "execution_count": 21,
   "metadata": {},
   "outputs": [
    {
     "name": "stdout",
     "output_type": "stream",
     "text": [
      "9\n",
      "(0.8745098039215686, 0.00784313725490196, 0.7450980392156863)\n"
     ]
    }
   ],
   "source": [
    "## grain 9\n",
    "grain9 = matFile.micro.get_grain(9)\n",
    "hklplanes = [pymicro.crystal.lattice.HklPlane(0,0,1)]\n",
    "grain9_with_planes = grain_3d(grain9, hklplanes, show_normal = False, plane_opacity = 1.0, show_orientation = True)\n",
    "tr = vtk.vtkTransform()\n",
    "tr.Translate(grain9.position)\n",
    "grain9_with_planes.SetUserTransform(tr)"
   ]
  },
  {
   "cell_type": "code",
   "execution_count": 22,
   "metadata": {},
   "outputs": [
    {
     "name": "stdout",
     "output_type": "stream",
     "text": [
      "24\n",
      "(0.9137254901960784, 0.36470588235294116, 0.22745098039215686)\n"
     ]
    }
   ],
   "source": [
    "## grain 24\n",
    "grain24 = matFile.micro.get_grain(24)\n",
    "hklplanes = [pymicro.crystal.lattice.HklPlane(0,0,1)]\n",
    "grain24_with_planes = grain_3d(grain24, hklplanes, show_normal = False, plane_opacity = 1.0, show_orientation = True)\n",
    "tr = vtk.vtkTransform()\n",
    "tr.Translate(grain24.position)\n",
    "grain24_with_planes.SetUserTransform(tr)"
   ]
  },
  {
   "cell_type": "code",
   "execution_count": 30,
   "metadata": {},
   "outputs": [
    {
     "name": "stdout",
     "output_type": "stream",
     "text": [
      "writing still image t5grains.png\n"
     ]
    },
    {
     "data": {
      "text/plain": [
       "(0.0, 0.0, 1.0)"
      ]
     },
     "execution_count": 30,
     "metadata": {},
     "output_type": "execute_result"
    }
   ],
   "source": [
    "from vtk.util.colors import white, grey, black\n",
    "from pymicro.view.scene3d import Scene3D\n",
    "\n",
    "s3d = Scene3D(display = False, ren_size = (800,800), name = 't5grains',background = black)\n",
    "\n",
    "grain_bbox = box_3d(size = matFile.vol.shape, line_color=white)\n",
    "axes = axes_actor(length = 100, fontSize = 60)\n",
    "axes.GetXAxisCaptionActor2D().GetCaptionTextProperty().SetColor(grey)\n",
    "\n",
    "size = np.shape(matFile.vol)\n",
    "cam = setup_camera(size=np.shape(matFile.vol))\n",
    "cam.Dolly(0.9)\n",
    "cam.SetPosition(-2 * size[0], 2*size[1], 1 * size[2])\n",
    "# cam.SetPosition(-2*size[0],0.5*size[1],0.5*size[2])\n",
    "cam.SetViewUp(0,0,1)\n",
    "\n",
    "s3d.add(grain_bbox)\n",
    "s3d.add(grain1_with_planes)\n",
    "s3d.add(grain5_with_planes)\n",
    "s3d.add(grain9_with_planes)\n",
    "s3d.add(grain24_with_planes)\n",
    "s3d.add(axes)\n",
    "s3d.set_camera(cam)\n",
    "s3d.render()\n",
    "cam.GetViewUp()"
   ]
  },
  {
   "cell_type": "code",
   "execution_count": 14,
   "metadata": {},
   "outputs": [],
   "source": [
    "del s3d"
   ]
  },
  {
   "cell_type": "code",
   "execution_count": null,
   "metadata": {},
   "outputs": [],
   "source": [
    "del s3d\n"
   ]
  }
 ],
 "metadata": {
  "kernelspec": {
   "display_name": "Python 2",
   "language": "python",
   "name": "python2"
  },
  "language_info": {
   "codemirror_mode": {
    "name": "ipython",
    "version": 2
   },
   "file_extension": ".py",
   "mimetype": "text/x-python",
   "name": "python",
   "nbconvert_exporter": "python",
   "pygments_lexer": "ipython2",
   "version": "2.7.15"
  }
 },
 "nbformat": 4,
 "nbformat_minor": 2
}
