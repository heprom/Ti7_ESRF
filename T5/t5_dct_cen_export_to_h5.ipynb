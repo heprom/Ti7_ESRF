{
 "cells": [
  {
   "cell_type": "markdown",
   "metadata": {},
   "source": [
    "In this notebook, we create then export, as an HDF5 file, the microstructure associated with the t5_dct_cen_ scan."
   ]
  },
  {
   "cell_type": "code",
   "execution_count": 1,
   "metadata": {},
   "outputs": [
    {
     "name": "stderr",
     "output_type": "stream",
     "text": [
      "/home/proudhon/python/pymicro/pymicro/external/tifffile.py:298: UserWarning: ImportError: No module named '_tifffile'. Loading of some compressed images will be very slow. Tifffile.c can be obtained at http://www.lfd.uci.edu/~gohlke/\n",
      "  \"ImportError: No module named '_tifffile'. \"\n"
     ]
    }
   ],
   "source": [
    "from pymicro.crystal.microstructure import Microstructure, Orientation, Grain\n",
    "from pymicro.crystal.lattice import Lattice, Symmetry\n",
    "from pymicro.xray.experiment import Experiment\n",
    "import numpy as np\n",
    "import os\n",
    "import h5py\n",
    "\n",
    "exp = Experiment.load('t5_experiment.txt')\n",
    "Ti7Al = exp.get_sample().get_material()\n"
   ]
  },
  {
   "cell_type": "code",
   "execution_count": 2,
   "metadata": {},
   "outputs": [
    {
     "name": "stdout",
     "output_type": "stream",
     "text": [
      "creating microstructure for DCT scan t5_dct_cen_\n",
      "id11/t5_/t5_dct_cen_/4_grains/phase_01/index.mat\n",
      "creating crystal lattice Ti7Al (Symmetry.hexagonal) with parameters [  2.929   2.929   4.675  90.     90.    120.   ]\n"
     ]
    },
    {
     "name": "stderr",
     "output_type": "stream",
     "text": [
      "/home/proudhon/python/anaconda3/lib/python3.7/site-packages/h5py/_hl/dataset.py:313: H5pyDeprecationWarning: dataset.value has been deprecated. Use dataset[()] instead.\n",
      "  \"Use dataset[()] instead.\", H5pyDeprecationWarning)\n"
     ]
    },
    {
     "name": "stdout",
     "output_type": "stream",
     "text": [
      "loaded grain ids volume with shape: (654, 654, 420)\n",
      "loaded mask volume with shape: (654, 654, 420)\n"
     ]
    }
   ],
   "source": [
    "from pymicro.crystal.microstructure import Microstructure\n",
    "\n",
    "# read microstructure for cen scan with pymicro function\n",
    "micro = Microstructure.from_dct(data_dir=os.path.join('id11', 't5_', 't5_dct_cen_'))\n",
    "micro.voxel_size = 0.0014"
   ]
  },
  {
   "cell_type": "code",
   "execution_count": 3,
   "metadata": {},
   "outputs": [
    {
     "name": "stdout",
     "output_type": "stream",
     "text": [
      "opening file t5_dct_cen_.h5 for writing\n",
      "done writing\n"
     ]
    }
   ],
   "source": [
    "# test writing\n",
    "micro.to_h5()"
   ]
  },
  {
   "cell_type": "code",
   "execution_count": 4,
   "metadata": {},
   "outputs": [
    {
     "name": "stdout",
     "output_type": "stream",
     "text": [
      "some grains\n",
      "(146, 3)\n",
      "Lattice\n",
      " abc : 0.3 0.3 0.5\n",
      " angles : 90.0 90.0 120.0\n",
      " volume : 0.0347\n",
      " A : 0.3 0.0 0.0\n",
      " B : -0.1 0.3 0.0\n",
      " C : 0.0 0.0 0.5\n",
      "id11/t5_/t5_dct_cen_\n",
      "146\n",
      "Grain\n",
      " * id = 1\n",
      " * Crystal Orientation\n",
      "orientation matrix = [[ 0.60924219 -0.23562441 -0.75716913]\n",
      " [ 0.37332066  0.92762839  0.01171575]\n",
      " [ 0.69961106 -0.28980461  0.65311381]]\n",
      "Euler angles (degrees) = (  67.499,  49.223, 270.886)\n",
      "Rodrigues vector = [ 0.09452095  0.45667314 -0.1908928 ]\n",
      "Quaternion = [ 0.89302637 -0.0844097   0.40782116  0.17047231]\n",
      " * position [ 0.06439824 -0.14325327 -0.12103377]\n",
      " * has vtk mesh ? False\n",
      "\n",
      "(654, 654, 420)\n"
     ]
    }
   ],
   "source": [
    "# test reading\n",
    "m = Microstructure.from_h5('t5_dct_cen_.h5')\n",
    "print(m.get_lattice())\n",
    "print(m.data_dir)\n",
    "print(m.get_number_of_grains())\n",
    "print(m.get_grain(1))\n",
    "print(m.grain_map.shape)"
   ]
  },
  {
   "cell_type": "code",
   "execution_count": null,
   "metadata": {},
   "outputs": [],
   "source": []
  }
 ],
 "metadata": {
  "kernelspec": {
   "display_name": "Python 3",
   "language": "python",
   "name": "python3"
  },
  "language_info": {
   "codemirror_mode": {
    "name": "ipython",
    "version": 3
   },
   "file_extension": ".py",
   "mimetype": "text/x-python",
   "name": "python",
   "nbconvert_exporter": "python",
   "pygments_lexer": "ipython3",
   "version": "3.7.3"
  }
 },
 "nbformat": 4,
 "nbformat_minor": 2
}
