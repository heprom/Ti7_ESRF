{
 "cells": [
  {
   "cell_type": "markdown",
   "metadata": {},
   "source": [
    "In this notebook, we export create then the microstructure associated with t5_dct_cen_ scan as an HDF5 file."
   ]
  },
  {
   "cell_type": "code",
   "execution_count": 1,
   "metadata": {},
   "outputs": [
    {
     "name": "stdout",
     "output_type": "stream",
     "text": [
      "some grains\n",
      "(146, 3)\n",
      "Lattice\n",
      " abc : 0.3 0.3 0.5\n",
      " angles : 90.0 90.0 120.0\n",
      " volume : 0.0347\n",
      " A : 0.3 0.0 0.0\n",
      " B : -0.1 0.3 0.0\n",
      " C : 0.0 0.0 0.5\n",
      "id11/t5_/t5_dct_cen_\n",
      "146\n",
      "Grain\n",
      " * id = 1\n",
      " * Crystal Orientation\n",
      "orientation matrix = [[ 0.60924219 -0.23562441 -0.75716913]\n",
      " [ 0.37332066  0.92762839  0.01171575]\n",
      " [ 0.69961106 -0.28980461  0.65311381]]\n",
      "Euler angles (degrees) = (  67.499,  49.223, 270.886)\n",
      "Rodrigues vector = [ 0.09452095  0.45667314 -0.1908928 ]\n",
      "Quaternion = [ 0.89302637 -0.0844097   0.40782116  0.17047231]\n",
      " * center [ 0.06439824 -0.14325327 -0.12103377]\n",
      " * has vtk mesh ? False\n",
      "\n",
      "(654, 654, 420)\n",
      "(654, 654, 420)\n"
     ]
    }
   ],
   "source": [
    "from pymicro.crystal.microstructure import Microstructure\n",
    "\n",
    "m = Microstructure.from_h5('t5_dct_cen_.h5')\n",
    "print(m.get_lattice())\n",
    "print(m.data_dir)\n",
    "print(m.get_number_of_grains())\n",
    "print(m.get_grain(1))\n",
    "print(m.grain_map.shape)\n",
    "print(m.mask.shape)"
   ]
  },
  {
   "cell_type": "code",
   "execution_count": 3,
   "metadata": {},
   "outputs": [
    {
     "ename": "ValueError",
     "evalue": "warning grain 47 not found in grain map",
     "output_type": "error",
     "traceback": [
      "\u001b[0;31m---------------------------------------------------------------------------\u001b[0m",
      "\u001b[0;31mValueError\u001b[0m                                Traceback (most recent call last)",
      "\u001b[0;32m<ipython-input-3-89d469d34531>\u001b[0m in \u001b[0;36m<module>\u001b[0;34m\u001b[0m\n\u001b[0;32m----> 1\u001b[0;31m \u001b[0mm\u001b[0m\u001b[0;34m.\u001b[0m\u001b[0mcompute_grain_center\u001b[0m\u001b[0;34m(\u001b[0m\u001b[0;36m47\u001b[0m\u001b[0;34m)\u001b[0m\u001b[0;34m\u001b[0m\u001b[0;34m\u001b[0m\u001b[0m\n\u001b[0m",
      "\u001b[0;32m~/python/pymicro/pymicro/crystal/microstructure.py\u001b[0m in \u001b[0;36mcompute_grain_center\u001b[0;34m(self, gid)\u001b[0m\n\u001b[1;32m   1644\u001b[0m         \u001b[0mslices\u001b[0m \u001b[0;34m=\u001b[0m \u001b[0mndimage\u001b[0m\u001b[0;34m.\u001b[0m\u001b[0mfind_objects\u001b[0m\u001b[0;34m(\u001b[0m\u001b[0mself\u001b[0m\u001b[0;34m.\u001b[0m\u001b[0mgrain_map\u001b[0m \u001b[0;34m==\u001b[0m \u001b[0mgid\u001b[0m\u001b[0;34m)\u001b[0m\u001b[0;34m\u001b[0m\u001b[0;34m\u001b[0m\u001b[0m\n\u001b[1;32m   1645\u001b[0m         \u001b[0;32mif\u001b[0m \u001b[0;32mnot\u001b[0m \u001b[0mlen\u001b[0m\u001b[0;34m(\u001b[0m\u001b[0mslices\u001b[0m\u001b[0;34m)\u001b[0m \u001b[0;34m>\u001b[0m \u001b[0;36m0\u001b[0m\u001b[0;34m:\u001b[0m\u001b[0;34m\u001b[0m\u001b[0;34m\u001b[0m\u001b[0m\n\u001b[0;32m-> 1646\u001b[0;31m             \u001b[0;32mraise\u001b[0m \u001b[0mValueError\u001b[0m\u001b[0;34m(\u001b[0m\u001b[0;34m'warning grain %d not found in grain map'\u001b[0m \u001b[0;34m%\u001b[0m \u001b[0mgid\u001b[0m\u001b[0;34m)\u001b[0m\u001b[0;34m\u001b[0m\u001b[0;34m\u001b[0m\u001b[0m\n\u001b[0m\u001b[1;32m   1647\u001b[0m         \u001b[0msl\u001b[0m \u001b[0;34m=\u001b[0m \u001b[0mslices\u001b[0m\u001b[0;34m[\u001b[0m\u001b[0;36m0\u001b[0m\u001b[0;34m]\u001b[0m\u001b[0;34m\u001b[0m\u001b[0;34m\u001b[0m\u001b[0m\n\u001b[1;32m   1648\u001b[0m         \u001b[0moffset\u001b[0m \u001b[0;34m=\u001b[0m \u001b[0mnp\u001b[0m\u001b[0;34m.\u001b[0m\u001b[0marray\u001b[0m\u001b[0;34m(\u001b[0m\u001b[0;34m[\u001b[0m\u001b[0msl\u001b[0m\u001b[0;34m[\u001b[0m\u001b[0;36m0\u001b[0m\u001b[0;34m]\u001b[0m\u001b[0;34m.\u001b[0m\u001b[0mstart\u001b[0m\u001b[0;34m,\u001b[0m \u001b[0msl\u001b[0m\u001b[0;34m[\u001b[0m\u001b[0;36m1\u001b[0m\u001b[0;34m]\u001b[0m\u001b[0;34m.\u001b[0m\u001b[0mstart\u001b[0m\u001b[0;34m,\u001b[0m \u001b[0msl\u001b[0m\u001b[0;34m[\u001b[0m\u001b[0;36m2\u001b[0m\u001b[0;34m]\u001b[0m\u001b[0;34m.\u001b[0m\u001b[0mstart\u001b[0m\u001b[0;34m]\u001b[0m\u001b[0;34m)\u001b[0m\u001b[0;34m\u001b[0m\u001b[0;34m\u001b[0m\u001b[0m\n",
      "\u001b[0;31mValueError\u001b[0m: warning grain 47 not found in grain map"
     ]
    }
   ],
   "source": [
    "m.compute_grain_center(47)"
   ]
  },
  {
   "cell_type": "code",
   "execution_count": 13,
   "metadata": {},
   "outputs": [
    {
     "data": {
      "text/plain": [
       "146"
      ]
     },
     "execution_count": 13,
     "metadata": {},
     "output_type": "execute_result"
    }
   ],
   "source": [
    "from scipy import ndimage\n",
    "len(ndimage.find_objects(m.grain_map))"
   ]
  },
  {
   "cell_type": "code",
   "execution_count": 7,
   "metadata": {},
   "outputs": [
    {
     "data": {
      "text/plain": [
       "array([ -1,   0,   1,   2,   3,   4,   5,   6,   7,   8,   9,  10,  11,\n",
       "        12,  13,  14,  15,  16,  17,  18,  19,  20,  21,  22,  23,  24,\n",
       "        25,  26,  27,  28,  29,  30,  31,  32,  33,  34,  35,  36,  37,\n",
       "        38,  39,  40,  41,  42,  43,  44,  45,  46,  48,  49,  50,  51,\n",
       "        52,  53,  54,  55,  56,  57,  58,  59,  60,  61,  62,  63,  64,\n",
       "        65,  66,  67,  68,  69,  70,  71,  72,  73,  74,  75,  76,  77,\n",
       "        78,  79,  80,  81,  82,  83,  84,  85,  86,  87,  88,  89,  90,\n",
       "        91,  92,  93,  94,  95,  96,  97,  98,  99, 100, 101, 102, 103,\n",
       "       104, 105, 106, 107, 108, 109, 110, 111, 112, 113, 114, 115, 116,\n",
       "       117, 118, 119, 120, 121, 122, 123, 124, 125, 126, 127, 128, 129,\n",
       "       130, 131, 132, 133, 134, 135, 136, 137, 138, 139, 140, 141, 142,\n",
       "       144, 145, 146], dtype=int16)"
      ]
     },
     "execution_count": 7,
     "metadata": {},
     "output_type": "execute_result"
    }
   ],
   "source": [
    "import numpy as np\n",
    "np.unique(m.grain_map)"
   ]
  },
  {
   "cell_type": "code",
   "execution_count": 2,
   "metadata": {},
   "outputs": [
    {
     "data": {
      "text/plain": [
       "array([ 0.06770541, -0.14066359, -0.12443915])"
      ]
     },
     "execution_count": 2,
     "metadata": {},
     "output_type": "execute_result"
    }
   ],
   "source": [
    "m.compute_grain_center(1)"
   ]
  },
  {
   "cell_type": "code",
   "execution_count": 4,
   "metadata": {},
   "outputs": [
    {
     "name": "stdout",
     "output_type": "stream",
     "text": [
      "grain 1 center: 0.068, -0.141, -0.124\n",
      "grain 2 center: -0.020, 0.144, -0.005\n",
      "grain 3 center: -0.081, 0.184, -0.198\n",
      "grain 4 center: -0.054, -0.098, 0.082\n",
      "grain 5 center: -0.136, -0.087, -0.106\n",
      "grain 6 center: 0.147, 0.074, -0.171\n",
      "grain 7 center: -0.252, 0.027, -0.056\n",
      "grain 8 center: 0.285, 0.104, 0.056\n",
      "grain 9 center: 0.239, -0.220, -0.217\n",
      "grain 10 center: 0.273, -0.027, -0.117\n",
      "grain 11 center: 0.116, 0.216, 0.130\n",
      "grain 12 center: 0.145, -0.092, 0.183\n",
      "grain 13 center: -0.207, 0.203, 0.068\n",
      "grain 14 center: -0.181, 0.024, -0.217\n",
      "grain 15 center: 0.050, -0.232, 0.124\n",
      "grain 16 center: -0.241, 0.244, -0.099\n",
      "grain 17 center: -0.225, -0.228, -0.124\n",
      "grain 18 center: -0.264, -0.098, -0.217\n",
      "grain 19 center: 0.175, -0.035, 0.021\n",
      "grain 20 center: 0.183, 0.121, -0.027\n",
      "grain 21 center: 0.191, -0.183, 0.060\n",
      "grain 22 center: 0.100, 0.245, -0.188\n",
      "grain 23 center: -0.019, -0.258, -0.039\n",
      "grain 24 center: -0.233, 0.009, 0.090\n",
      "grain 25 center: 0.008, -0.014, -0.245\n",
      "grain 26 center: 0.283, -0.214, -0.008\n",
      "grain 27 center: 0.246, 0.098, 0.209\n",
      "grain 28 center: 0.003, 0.033, 0.155\n",
      "grain 29 center: -0.276, -0.179, 0.183\n",
      "grain 30 center: 0.264, -0.192, 0.176\n",
      "grain 31 center: 0.242, 0.223, 0.139\n",
      "grain 32 center: 0.224, 0.242, -0.161\n",
      "grain 33 center: -0.099, 0.209, 0.222\n",
      "grain 34 center: -0.194, -0.113, 0.247\n",
      "grain 35 center: 0.255, 0.259, -0.003\n",
      "grain 36 center: -0.259, 0.020, 0.197\n",
      "grain 37 center: 0.290, 0.173, -0.111\n",
      "grain 38 center: -0.144, 0.062, 0.224\n",
      "grain 39 center: -0.177, -0.207, 0.124\n",
      "grain 40 center: 0.284, -0.164, -0.149\n",
      "grain 41 center: -0.058, 0.254, 0.132\n",
      "grain 42 center: -0.040, -0.042, 0.231\n",
      "grain 43 center: 0.009, 0.125, 0.219\n",
      "grain 44 center: 0.175, 0.037, 0.130\n",
      "grain 45 center: 0.269, 0.073, -0.260\n",
      "grain 46 center: -0.190, -0.084, 0.156\n",
      "skipping grain 47\n",
      "grain 48 center: -0.229, -0.123, 0.019\n",
      "grain 49 center: 0.281, -0.018, 0.209\n",
      "grain 50 center: -0.136, -0.212, 0.019\n",
      "grain 51 center: -0.085, -0.242, -0.189\n",
      "grain 52 center: -0.294, 0.165, -0.186\n",
      "grain 53 center: 0.318, -0.096, 0.204\n",
      "grain 54 center: -0.065, -0.149, -0.262\n",
      "grain 55 center: 0.134, 0.174, 0.249\n",
      "grain 56 center: -0.242, 0.284, 0.112\n",
      "grain 57 center: -0.191, -0.193, -0.259\n",
      "grain 58 center: -0.137, -0.246, 0.207\n",
      "grain 59 center: 0.279, -0.077, 0.114\n",
      "grain 60 center: 0.295, 0.222, -0.247\n",
      "grain 61 center: 0.071, -0.255, 0.238\n",
      "grain 62 center: -0.286, -0.159, 0.048\n",
      "grain 63 center: -0.279, 0.115, -0.248\n",
      "grain 64 center: 0.261, 0.235, 0.241\n",
      "grain 65 center: 0.309, -0.114, 0.030\n",
      "grain 66 center: 0.179, -0.112, -0.270\n",
      "grain 67 center: -0.003, -0.161, 0.219\n",
      "grain 68 center: 0.148, 0.154, -0.272\n",
      "grain 69 center: -0.268, -0.176, -0.052\n",
      "grain 70 center: 0.189, 0.248, -0.271\n",
      "grain 71 center: -0.196, 0.208, -0.280\n",
      "grain 72 center: -0.275, 0.150, 0.211\n",
      "grain 73 center: -0.280, 0.130, 0.112\n",
      "grain 74 center: -0.201, 0.147, 0.186\n",
      "grain 75 center: 0.099, 0.039, 0.225\n",
      "grain 76 center: 0.074, -0.124, 0.052\n",
      "grain 77 center: -0.297, 0.194, 0.249\n",
      "grain 78 center: -0.107, 0.141, 0.139\n",
      "grain 79 center: -0.188, 0.245, 0.173\n",
      "grain 80 center: -0.245, -0.254, 0.126\n",
      "grain 81 center: 0.154, 0.280, -0.052\n",
      "grain 82 center: 0.299, -0.048, -0.258\n",
      "grain 83 center: -0.166, 0.284, 0.222\n",
      "grain 84 center: 0.065, -0.123, 0.262\n",
      "grain 85 center: -0.085, -0.208, -0.041\n",
      "grain 86 center: -0.106, -0.229, 0.261\n",
      "grain 87 center: -0.270, 0.248, 0.189\n",
      "grain 88 center: 0.149, -0.245, -0.014\n",
      "grain 89 center: 0.224, -0.189, -0.064\n",
      "grain 90 center: 0.317, 0.129, -0.215\n",
      "grain 91 center: 0.248, -0.263, 0.188\n",
      "grain 92 center: -0.278, -0.247, 0.033\n",
      "grain 93 center: 0.145, 0.010, -0.282\n",
      "grain 94 center: -0.107, -0.180, 0.214\n",
      "grain 95 center: 0.139, 0.020, 0.268\n",
      "grain 96 center: -0.217, -0.226, 0.035\n",
      "grain 97 center: 0.076, -0.202, -0.284\n",
      "grain 98 center: 0.329, 0.069, -0.118\n",
      "grain 99 center: 0.045, 0.272, 0.245\n",
      "grain 100 center: -0.269, 0.029, -0.286\n",
      "grain 101 center: 0.053, -0.209, 0.256\n",
      "grain 102 center: 0.006, -0.253, -0.271\n",
      "grain 103 center: -0.280, 0.242, -0.267\n",
      "grain 104 center: 0.200, -0.235, 0.265\n",
      "grain 105 center: -0.138, -0.247, -0.251\n",
      "grain 106 center: -0.224, 0.239, 0.244\n",
      "grain 107 center: 0.327, 0.183, 0.259\n",
      "grain 108 center: 0.016, 0.092, -0.285\n",
      "grain 109 center: -0.298, 0.160, -0.022\n",
      "grain 110 center: 0.261, 0.155, -0.203\n",
      "grain 111 center: -0.229, 0.158, 0.263\n",
      "grain 112 center: -0.288, -0.234, -0.262\n",
      "grain 113 center: -0.100, 0.060, -0.283\n",
      "grain 114 center: -0.106, 0.291, -0.008\n",
      "grain 115 center: -0.086, 0.055, -0.170\n",
      "grain 116 center: 0.159, -0.213, 0.237\n",
      "grain 117 center: -0.092, -0.239, -0.287\n",
      "grain 118 center: 0.110, -0.252, -0.259\n",
      "grain 119 center: -0.275, 0.278, 0.253\n",
      "grain 120 center: 0.325, -0.255, 0.122\n",
      "grain 121 center: 0.289, -0.173, 0.271\n",
      "grain 122 center: 0.305, -0.099, -0.287\n",
      "grain 123 center: 0.018, 0.232, 0.247\n",
      "grain 124 center: -0.305, -0.160, -0.135\n",
      "grain 125 center: -0.268, 0.240, 0.262\n",
      "grain 126 center: 0.305, 0.077, -0.185\n",
      "grain 127 center: -0.095, -0.060, -0.291\n",
      "grain 128 center: 0.282, -0.078, 0.273\n",
      "grain 129 center: 0.329, -0.096, -0.216\n",
      "grain 130 center: -0.118, -0.253, -0.077\n",
      "grain 131 center: -0.113, -0.272, 0.055\n",
      "grain 132 center: -0.272, 0.181, -0.012\n",
      "grain 133 center: 0.003, 0.227, 0.274\n",
      "grain 134 center: 0.254, 0.193, -0.226\n",
      "grain 135 center: 0.268, -0.104, -0.256\n",
      "grain 136 center: -0.167, 0.277, 0.277\n",
      "grain 137 center: 0.256, -0.070, -0.291\n",
      "grain 138 center: 0.186, 0.178, -0.237\n",
      "grain 139 center: 0.334, 0.152, -0.289\n",
      "grain 140 center: -0.247, 0.064, 0.275\n",
      "grain 141 center: -0.303, 0.190, 0.013\n",
      "grain 142 center: 0.268, 0.166, 0.277\n",
      "skipping grain 143\n",
      "grain 144 center: -0.300, -0.083, 0.220\n",
      "grain 145 center: 0.069, 0.220, -0.293\n",
      "grain 146 center: -0.300, 0.102, 0.278\n",
      "elapsed time = 84.29 s\n"
     ]
    }
   ],
   "source": [
    "import time\n",
    "\n",
    "t0 = time.time()\n",
    "m.recompute_grain_centers(verbose=True)\n",
    "print('elapsed time = {:.2f} s'.format(time.time() - t0))"
   ]
  },
  {
   "cell_type": "code",
   "execution_count": 11,
   "metadata": {},
   "outputs": [
    {
     "name": "stdout",
     "output_type": "stream",
     "text": [
      "(654, 654, 420)\n",
      "grain  1 center: 48.361, -100.474, -88.885\n",
      "elapsed time = 3.48 s\n"
     ]
    }
   ],
   "source": [
    "# find center of mass of grain 1 (here the whole array is binarized)\n",
    "from scipy import ndimage\n",
    "import numpy as np\n",
    "import time\n",
    "\n",
    "t0 = time.time()\n",
    "g = m.get_grain(1)\n",
    "array_bin = (m.grain_map == g.id).astype(np.uint8)\n",
    "print(array_bin.shape)\n",
    "local_com = ndimage.measurements.center_of_mass(array_bin)  #TODO use labels to compute all the COM at once\n",
    "com = local_com - 0.5 * np.array(m.grain_map.shape)\n",
    "print('grain %2d center: %6.3f, %6.3f, %6.3f' % (g.id, com[0], com[1], com[2]))\n",
    "print('elapsed time = {:.2f} s'.format(time.time() - t0))"
   ]
  },
  {
   "cell_type": "code",
   "execution_count": 32,
   "metadata": {},
   "outputs": [
    {
     "name": "stdout",
     "output_type": "stream",
     "text": [
      "[(375.3610074287355, 226.52600590490175, 121.11489430769971), (312.4066557223289, 430.05974306600376, 206.60559944312328), (269.2683249154354, 458.40789120088476, 68.72004599785072)]\n"
     ]
    }
   ],
   "source": [
    "local_coms = ndimage.measurements.center_of_mass(m.grain_map, m.grain_map, [1, 2, 3])\n",
    "print(local_coms)"
   ]
  },
  {
   "cell_type": "code",
   "execution_count": 30,
   "metadata": {},
   "outputs": [
    {
     "name": "stdout",
     "output_type": "stream",
     "text": [
      "grain  1 center: 48.361, -100.474, -88.885\n",
      "grain  2 center: -14.593, 103.060, -3.394\n",
      "grain  3 center: -57.732, 131.408, -141.280\n",
      "grain  4 center: -38.552, -70.087, 58.412\n",
      "grain  5 center: -97.413, -61.788, -75.410\n",
      "grain  6 center: 104.771, 53.165, -122.219\n",
      "grain  7 center: -179.917, 19.396, -39.662\n",
      "grain  8 center: 203.912, 73.982, 39.936\n",
      "grain  9 center: 170.763, -157.351, -154.657\n",
      "grain 10 center: 194.929, -19.498, -83.651\n",
      "elapsed time = 7.02 s\n"
     ]
    }
   ],
   "source": [
    "from matplotlib import pyplot as plt, cm\n",
    "%matplotlib inline\n",
    "\n",
    "# find center of mass of grain 1 (here the VOI around the grain is extracted)\n",
    "t0 = time.time()\n",
    "for i in range(1, 11):\n",
    "    g = m.get_grain(i)\n",
    "    sl = ndimage.find_objects(m.grain_map == g.id)[0]\n",
    "    offset = np.array([sl[0].start, sl[1].start, sl[2].start])\n",
    "    #print('offset is {}'.format(offset))\n",
    "    grain_data_bin = (m.grain_map[sl] == g.id).astype(np.uint8)\n",
    "    local_com = ndimage.measurements.center_of_mass(grain_data_bin)\n",
    "    com = offset + local_com - 0.5 * np.array(m.grain_map.shape)\n",
    "    print('grain %2d center: %6.3f, %6.3f, %6.3f' % (g.id, com[0], com[1], com[2]))\n",
    "print('elapsed time = {:.2f} s'.format(time.time() - t0))"
   ]
  },
  {
   "cell_type": "code",
   "execution_count": 24,
   "metadata": {},
   "outputs": [
    {
     "data": {
      "text/plain": [
       "(slice(252, 499, None), slice(129, 341, None), slice(11, 242, None))"
      ]
     },
     "execution_count": 24,
     "metadata": {},
     "output_type": "execute_result"
    }
   ],
   "source": [
    "s = ndimage.find_objects(m.grain_map == g.id)[0]\n",
    "s"
   ]
  },
  {
   "cell_type": "code",
   "execution_count": 25,
   "metadata": {},
   "outputs": [
    {
     "data": {
      "text/plain": [
       "129"
      ]
     },
     "execution_count": 25,
     "metadata": {},
     "output_type": "execute_result"
    }
   ],
   "source": [
    "s[1].start"
   ]
  },
  {
   "cell_type": "code",
   "execution_count": 10,
   "metadata": {},
   "outputs": [
    {
     "name": "stdout",
     "output_type": "stream",
     "text": [
      "Help on function center_of_mass in module scipy.ndimage.measurements:\n",
      "\n",
      "center_of_mass(input, labels=None, index=None)\n",
      "    Calculate the center of mass of the values of an array at labels.\n",
      "    \n",
      "    Parameters\n",
      "    ----------\n",
      "    input : ndarray\n",
      "        Data from which to calculate center-of-mass. The masses can either\n",
      "        be positive or negative.\n",
      "    labels : ndarray, optional\n",
      "        Labels for objects in `input`, as generated by `ndimage.label`.\n",
      "        Only used with `index`.  Dimensions must be the same as `input`.\n",
      "    index : int or sequence of ints, optional\n",
      "        Labels for which to calculate centers-of-mass. If not specified,\n",
      "        all labels greater than zero are used.  Only used with `labels`.\n",
      "    \n",
      "    Returns\n",
      "    -------\n",
      "    center_of_mass : tuple, or list of tuples\n",
      "        Coordinates of centers-of-mass.\n",
      "    \n",
      "    Examples\n",
      "    --------\n",
      "    >>> a = np.array(([0,0,0,0],\n",
      "    ...               [0,1,1,0],\n",
      "    ...               [0,1,1,0],\n",
      "    ...               [0,1,1,0]))\n",
      "    >>> from scipy import ndimage\n",
      "    >>> ndimage.measurements.center_of_mass(a)\n",
      "    (2.0, 1.5)\n",
      "    \n",
      "    Calculation of multiple objects in an image\n",
      "    \n",
      "    >>> b = np.array(([0,1,1,0],\n",
      "    ...               [0,1,0,0],\n",
      "    ...               [0,0,0,0],\n",
      "    ...               [0,0,1,1],\n",
      "    ...               [0,0,1,1]))\n",
      "    >>> lbl = ndimage.label(b)[0]\n",
      "    >>> ndimage.measurements.center_of_mass(b, lbl, [1,2])\n",
      "    [(0.33333333333333331, 1.3333333333333333), (3.5, 2.5)]\n",
      "    \n",
      "    Negative masses are also accepted, which can occur for example when\n",
      "    bias is removed from measured data due to random noise.\n",
      "    \n",
      "    >>> c = np.array(([-1,0,0,0],\n",
      "    ...               [0,-1,-1,0],\n",
      "    ...               [0,1,-1,0],\n",
      "    ...               [0,1,1,0]))\n",
      "    >>> ndimage.measurements.center_of_mass(c)\n",
      "    (-4.0, 1.0)\n",
      "    \n",
      "    If there are division by zero issues, the function does not raise an\n",
      "    error but rather issues a RuntimeWarning before returning inf and/or NaN.\n",
      "    \n",
      "    >>> d = np.array([-1, 1])\n",
      "    >>> ndimage.measurements.center_of_mass(d)\n",
      "    (inf,)\n",
      "\n"
     ]
    }
   ],
   "source": [
    "help(ndimage.measurements.center_of_mass)"
   ]
  },
  {
   "cell_type": "code",
   "execution_count": 5,
   "metadata": {},
   "outputs": [
    {
     "name": "stdout",
     "output_type": "stream",
     "text": [
      "Help on function find_objects in module scipy.ndimage.measurements:\n",
      "\n",
      "find_objects(input, max_label=0)\n",
      "    Find objects in a labeled array.\n",
      "    \n",
      "    Parameters\n",
      "    ----------\n",
      "    input : ndarray of ints\n",
      "        Array containing objects defined by different labels. Labels with\n",
      "        value 0 are ignored.\n",
      "    max_label : int, optional\n",
      "        Maximum label to be searched for in `input`. If max_label is not\n",
      "        given, the positions of all objects are returned.\n",
      "    \n",
      "    Returns\n",
      "    -------\n",
      "    object_slices : list of tuples\n",
      "        A list of tuples, with each tuple containing N slices (with N the\n",
      "        dimension of the input array).  Slices correspond to the minimal\n",
      "        parallelepiped that contains the object. If a number is missing,\n",
      "        None is returned instead of a slice.\n",
      "    \n",
      "    See Also\n",
      "    --------\n",
      "    label, center_of_mass\n",
      "    \n",
      "    Notes\n",
      "    -----\n",
      "    This function is very useful for isolating a volume of interest inside\n",
      "    a 3-D array, that cannot be \"seen through\".\n",
      "    \n",
      "    Examples\n",
      "    --------\n",
      "    >>> from scipy import ndimage\n",
      "    >>> a = np.zeros((6,6), dtype=int)\n",
      "    >>> a[2:4, 2:4] = 1\n",
      "    >>> a[4, 4] = 1\n",
      "    >>> a[:2, :3] = 2\n",
      "    >>> a[0, 5] = 3\n",
      "    >>> a\n",
      "    array([[2, 2, 2, 0, 0, 3],\n",
      "           [2, 2, 2, 0, 0, 0],\n",
      "           [0, 0, 1, 1, 0, 0],\n",
      "           [0, 0, 1, 1, 0, 0],\n",
      "           [0, 0, 0, 0, 1, 0],\n",
      "           [0, 0, 0, 0, 0, 0]])\n",
      "    >>> ndimage.find_objects(a)\n",
      "    [(slice(2, 5, None), slice(2, 5, None)), (slice(0, 2, None), slice(0, 3, None)), (slice(0, 1, None), slice(5, 6, None))]\n",
      "    >>> ndimage.find_objects(a, max_label=2)\n",
      "    [(slice(2, 5, None), slice(2, 5, None)), (slice(0, 2, None), slice(0, 3, None))]\n",
      "    >>> ndimage.find_objects(a == 1, max_label=2)\n",
      "    [(slice(2, 5, None), slice(2, 5, None)), None]\n",
      "    \n",
      "    >>> loc = ndimage.find_objects(a)[0]\n",
      "    >>> a[loc]\n",
      "    array([[1, 1, 0],\n",
      "           [1, 1, 0],\n",
      "           [0, 0, 1]])\n",
      "\n"
     ]
    }
   ],
   "source": [
    "help(ndimage.find_objects)"
   ]
  },
  {
   "cell_type": "code",
   "execution_count": 19,
   "metadata": {},
   "outputs": [
    {
     "name": "stdout",
     "output_type": "stream",
     "text": [
      "3569287 voxels to replace\n",
      "dilation step 1 done\n",
      "2119352 voxels to replace\n",
      "dilation step 2 done\n",
      "1350588 voxels to replace\n",
      "dilation step 3 done\n",
      "983544 voxels to replace\n",
      "dilation step 4 done\n",
      "806833 voxels to replace\n",
      "dilation step 5 done\n",
      "707934 voxels to replace\n",
      "dilation step 6 done\n",
      "636081 voxels to replace\n",
      "dilation step 7 done\n",
      "573665 voxels to replace\n",
      "dilation step 8 done\n",
      "515377 voxels to replace\n",
      "dilation step 9 done\n",
      "453114 voxels to replace\n",
      "dilation step 10 done\n"
     ]
    }
   ],
   "source": [
    "m.dilate_grains(dilation_steps=10)"
   ]
  },
  {
   "cell_type": "code",
   "execution_count": 17,
   "metadata": {},
   "outputs": [
    {
     "data": {
      "text/plain": [
       "<matplotlib.image.AxesImage at 0x7f97fc0b7c50>"
      ]
     },
     "execution_count": 17,
     "metadata": {},
     "output_type": "execute_result"
    },
    {
     "data": {
      "image/png": "[encoded data removed]",
      "text/plain": [
       "<Figure size 432x288 with 1 Axes>"
      ]
     },
     "metadata": {
      "needs_background": "light"
     },
     "output_type": "display_data"
    }
   ],
   "source": [
    "import numpy as np\n",
    "from matplotlib import pyplot as plt, cm\n",
    "%matplotlib inline\n",
    "\n",
    "rand_cmap = Microstructure.rand_cmap(first_is_black=True)\n",
    "#plt.imshow(m.grain_map[:, :, 210].T, cmap=rand_cmap)\n",
    "#plt.imshow(m.grain_map[:, 327, :].T, cmap=rand_cmap)\n",
    "plt.imshow(m.grain_map[327, :, :].T, cmap=rand_cmap)\n"
   ]
  },
  {
   "cell_type": "code",
   "execution_count": 79,
   "metadata": {},
   "outputs": [
    {
     "data": {
      "image/png": "[encoded data removed]",
      "text/plain": [
       "<Figure size 1008x720 with 2 Axes>"
      ]
     },
     "metadata": {
      "needs_background": "light"
     },
     "output_type": "display_data"
    }
   ],
   "source": [
    "fig = plt.figure(figsize=(14, 10))\n",
    "ax1 = fig.add_subplot(1, 2, 1)\n",
    "ax1.imshow((grain_map[:, :, 210] * m.mask[:, :, 210]).T, cmap=rand_cmap)\n",
    "plt.axis('off')\n",
    "plt.title('dilated grain ids')\n",
    "ax2 = fig.add_subplot(1, 2, 2)\n",
    "ax2.imshow(m.mask[:, :, 210].T)\n",
    "plt.axis('off')\n",
    "plt.title('mask')\n",
    "plt.show()"
   ]
  },
  {
   "cell_type": "markdown",
   "metadata": {},
   "source": [
    "Second example\n",
    "--\n",
    "Here we try the dilation function on the merged volume between `t5_dct_bot_` and `t5_dct_cen_`"
   ]
  },
  {
   "cell_type": "code",
   "execution_count": 26,
   "metadata": {},
   "outputs": [
    {
     "name": "stdout",
     "output_type": "stream",
     "text": [
      "some grains\n",
      "(262, 3)\n",
      "(676, 676, 788)\n"
     ]
    }
   ],
   "source": [
    "from pymicro.crystal.microstructure import Microstructure\n",
    "\n",
    "micro_botcen = Microstructure.from_h5('t5_dct_bot_-t5_dct_cen_.h5')\n",
    "print(micro_botcen.grain_map.shape)"
   ]
  },
  {
   "cell_type": "code",
   "execution_count": 31,
   "metadata": {},
   "outputs": [
    {
     "data": {
      "image/png": "[encoded data removed]",
      "text/plain": [
       "<Figure size 1008x720 with 2 Axes>"
      ]
     },
     "metadata": {
      "needs_background": "light"
     },
     "output_type": "display_data"
    }
   ],
   "source": [
    "from scipy import ndimage\n",
    "\n",
    "# fix the mask: keep largest connected component and perform morphological opening\n",
    "label_mask, nb_labels = ndimage.label(micro_botcen.mask)\n",
    "sizes = ndimage.sum(micro_botcen.mask, label_mask, range(nb_labels + 1))\n",
    "mask = sizes == max(sizes)\n",
    "mask_cleaned = mask[label_mask]\n",
    "mask_cleaned = ndimage.binary_opening(mask_cleaned, structure=np.ones((3, 3, 3)), iterations=2)\n",
    "micro_botcen.mask = mask_cleaned.astype(np.uint8)\n",
    "\n",
    "fig = plt.figure(figsize=(14, 10))\n",
    "ax1 = fig.add_subplot(1, 2, 1)\n",
    "ax1.imshow(micro_botcen.grain_map[:, :, 400].T, cmap=rand_cmap)\n",
    "plt.axis('off')\n",
    "plt.title('grain ids')\n",
    "ax2 = fig.add_subplot(1, 2, 2)\n",
    "ax2.imshow(mask_cleaned[:, :, 400].T)\n",
    "plt.axis('off')\n",
    "plt.title('mask cleaned')\n",
    "plt.show()"
   ]
  },
  {
   "cell_type": "code",
   "execution_count": 32,
   "metadata": {},
   "outputs": [
    {
     "name": "stdout",
     "output_type": "stream",
     "text": [
      "743164 voxels to replace\n",
      "dilation step 1 done\n",
      "610117 voxels to replace\n",
      "dilation step 2 done\n",
      "510682 voxels to replace\n",
      "dilation step 3 done\n",
      "444881 voxels to replace\n",
      "dilation step 4 done\n",
      "397029 voxels to replace\n",
      "dilation step 5 done\n",
      "360883 voxels to replace\n",
      "dilation step 6 done\n",
      "334520 voxels to replace\n",
      "dilation step 7 done\n",
      "315696 voxels to replace\n",
      "dilation step 8 done\n",
      "302596 voxels to replace\n",
      "dilation step 9 done\n",
      "293284 voxels to replace\n",
      "dilation step 10 done\n",
      "286246 voxels to replace\n",
      "dilation step 11 done\n",
      "280952 voxels to replace\n",
      "dilation step 12 done\n",
      "277059 voxels to replace\n",
      "dilation step 13 done\n",
      "274248 voxels to replace\n",
      "dilation step 14 done\n",
      "272123 voxels to replace\n",
      "dilation step 15 done\n",
      "270355 voxels to replace\n",
      "dilation step 16 done\n",
      "268975 voxels to replace\n",
      "dilation step 17 done\n",
      "267863 voxels to replace\n",
      "dilation step 18 done\n",
      "267005 voxels to replace\n",
      "dilation step 19 done\n",
      "266315 voxels to replace\n",
      "dilation step 20 done\n"
     ]
    }
   ],
   "source": [
    "micro_botcen.dilate_grains(dilation_steps=20)"
   ]
  },
  {
   "cell_type": "code",
   "execution_count": 35,
   "metadata": {},
   "outputs": [
    {
     "data": {
      "text/plain": [
       "<matplotlib.image.AxesImage at 0x7f97e66cb390>"
      ]
     },
     "execution_count": 35,
     "metadata": {},
     "output_type": "execute_result"
    },
    {
     "data": {
      "image/png": "[encoded data removed]",
      "text/plain": [
       "<Figure size 432x288 with 1 Axes>"
      ]
     },
     "metadata": {
      "needs_background": "light"
     },
     "output_type": "display_data"
    }
   ],
   "source": [
    "plt.imshow(micro_botcen.grain_map[327, :, :].T, cmap=rand_cmap, origin='lower')"
   ]
  },
  {
   "cell_type": "code",
   "execution_count": 38,
   "metadata": {},
   "outputs": [
    {
     "name": "stdout",
     "output_type": "stream",
     "text": [
      "opening file t5_dct_bot_-t5_dct_cen_.h5 for writing\n",
      "done writing\n"
     ]
    }
   ],
   "source": [
    "micro_botcen.to_h5()"
   ]
  },
  {
   "cell_type": "code",
   "execution_count": 37,
   "metadata": {},
   "outputs": [],
   "source": [
    "micro_botcen.mask = micro_botcen.mask.astype(np.uint8)"
   ]
  },
  {
   "cell_type": "code",
   "execution_count": null,
   "metadata": {},
   "outputs": [],
   "source": []
  }
 ],
 "metadata": {
  "kernelspec": {
   "display_name": "Python 3",
   "language": "python",
   "name": "python3"
  },
  "language_info": {
   "codemirror_mode": {
    "name": "ipython",
    "version": 3
   },
   "file_extension": ".py",
   "mimetype": "text/x-python",
   "name": "python",
   "nbconvert_exporter": "python",
   "pygments_lexer": "ipython3",
   "version": "3.7.3"
  }
 },
 "nbformat": 4,
 "nbformat_minor": 2
}
